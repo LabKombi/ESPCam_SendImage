{
 "cells": [
  {
   "cell_type": "code",
   "execution_count": null,
   "metadata": {},
   "outputs": [
    {
     "name": "stdout",
     "output_type": "stream",
     "text": [
      "Gagal mengambil data dari API. Status kode: 404\n",
      "Gagal mengambil data dari API. Status kode: 404\n",
      "Gagal mengambil data dari API. Status kode: 404\n",
      "Gagal mengambil data dari API. Status kode: 404\n",
      "Gagal mengambil data dari API. Status kode: 404\n",
      "Gagal mengambil data dari API. Status kode: 404\n",
      "Gagal mengambil data dari API. Status kode: 404\n",
      "Gagal mengambil data dari API. Status kode: 404\n",
      "Gagal mengambil data dari API. Status kode: 404\n",
      "Gagal mengambil data dari API. Status kode: 404\n",
      "Gagal mengambil data dari API. Status kode: 404\n",
      "Gagal mengambil data dari API. Status kode: 404\n",
      "Gagal mengambil data dari API. Status kode: 404\n",
      "Gagal mengambil data dari API. Status kode: 404\n",
      "Gagal mengambil data dari API. Status kode: 404\n",
      "Gagal mengambil data dari API. Status kode: 404\n",
      "Gagal mengambil data dari API. Status kode: 404\n",
      "Gagal mengambil data dari API. Status kode: 404\n",
      "Gagal mengambil data dari API. Status kode: 404\n",
      "Gagal mengambil data dari API. Status kode: 404\n",
      "Gagal mengambil data dari API. Status kode: 404\n",
      "Gagal mengambil data dari API. Status kode: 404\n",
      "Gagal mengambil data dari API. Status kode: 404\n",
      "Gagal mengambil data dari API. Status kode: 404\n",
      "Gagal mengambil data dari API. Status kode: 404\n",
      "Gagal mengambil data dari API. Status kode: 404\n",
      "Gagal mengambil data dari API. Status kode: 404\n",
      "Gagal mengambil data dari API. Status kode: 404\n",
      "Gagal mengambil data dari API. Status kode: 404\n",
      "Gagal mengambil data dari API. Status kode: 404\n",
      "Gagal mengambil data dari API. Status kode: 404\n",
      "Gagal mengambil data dari API. Status kode: 404\n",
      "Gagal mengambil data dari API. Status kode: 404\n",
      "Gagal mengambil data dari API. Status kode: 404\n",
      "Gagal mengambil data dari API. Status kode: 404\n",
      "Gagal mengambil data dari API. Status kode: 404\n",
      "Gagal mengambil data dari API. Status kode: 404\n",
      "Gagal mengambil data dari API. Status kode: 404\n",
      "Gagal mengambil data dari API. Status kode: 404\n",
      "Gagal mengambil data dari API. Status kode: 404\n",
      "Gagal mengambil data dari API. Status kode: 404\n"
     ]
    }
   ],
   "source": [
    "import requests\n",
    "import base64\n",
    "from io import BytesIO\n",
    "from PIL import Image\n",
    "import time\n",
    "\n",
    "from config.config_aio import AIO_SERVER, AIO_USERNAME, AIO_KEY, AIO_FEED\n",
    "\n",
    "\n",
    "# URL API Adafruit IO untuk mengambil feed\n",
    "url = \"https://io.adafruit.com/api/v2/{AIO_USERNAME}/feeds?x-aio-key={AIO_KEY}\"\n",
    "\n",
    "# URL server lokal untuk mengirim gambar\n",
    "server_url = \"http://127.0.0.1:5000/predict\"\n",
    "\n",
    "while True:\n",
    "    try:\n",
    "        # Mengambil data dari API Adafruit IO\n",
    "        response = requests.get(url)\n",
    "\n",
    "        if response.status_code == 200:\n",
    "            # Parse data JSON\n",
    "            feeds = response.json()\n",
    "\n",
    "            # Cari feed dengan ID yang sesuai (ID: 2940873)\n",
    "            feed_data = None\n",
    "            for feed in feeds:\n",
    "                if feed['id'] == 2940873:\n",
    "                    feed_data = feed\n",
    "                    break\n",
    "\n",
    "            if feed_data:\n",
    "                # Ambil last_value yang berisi gambar dalam format base64\n",
    "                base64_image_data = feed_data.get('last_value')\n",
    "\n",
    "                if base64_image_data:\n",
    "                    # Decode gambar dari base64\n",
    "                    image_data = base64.b64decode(base64_image_data)\n",
    "\n",
    "                    # Mengonversi byte image ke format gambar\n",
    "                    image = Image.open(BytesIO(image_data))\n",
    "\n",
    "                    # Mengirim gambar ke server lokal\n",
    "                    files = {'image': ('photo.jpg', image_data, 'image/jpeg')}\n",
    "                    res = requests.post(server_url, files=files)\n",
    "\n",
    "                    # Menampilkan hasil dari server\n",
    "                    print(res.json())\n",
    "                else:\n",
    "                    print(\"Gambar tidak ditemukan dalam 'last_value'.\")\n",
    "            else:\n",
    "                print(\"Feed dengan ID 2940873 tidak ditemukan.\")\n",
    "        else:\n",
    "            print(f\"Gagal mengambil data dari API. Status kode: {response.status_code}\")\n",
    "\n",
    "    except Exception as e:\n",
    "        print(f\"Terjadi kesalahan: {e}\")\n",
    "\n",
    "    # Tunggu 1 detik sebelum mengulangi proses\n",
    "    time.sleep(0.5)\n"
   ]
  },
  {
   "cell_type": "code",
   "execution_count": null,
   "metadata": {},
   "outputs": [
    {
     "name": "stdout",
     "output_type": "stream",
     "text": [
      "https://io.adafruit.com/api/v2/{AIO_USERNAME}/feeds?x-aio-key={AIO_KEY}\n"
     ]
    }
   ],
   "source": [
    "# from config.config_aio import AIO_SERVER, AIO_USERNAME, AIO_KEY, AIO_FEED\n",
    "\n",
    "# # URL API Adafruit IO untuk mengambil feed\n",
    "# url = f\"https://io.adafruit.com/api/v2/{AIO_USERNAME}/feeds?x-aio-key={AIO_KEY}\"\n",
    "\n",
    "# print(url)\n"
   ]
  }
 ],
 "metadata": {
  "kernelspec": {
   "display_name": "base",
   "language": "python",
   "name": "python3"
  },
  "language_info": {
   "codemirror_mode": {
    "name": "ipython",
    "version": 3
   },
   "file_extension": ".py",
   "mimetype": "text/x-python",
   "name": "python",
   "nbconvert_exporter": "python",
   "pygments_lexer": "ipython3",
   "version": "3.12.3"
  }
 },
 "nbformat": 4,
 "nbformat_minor": 2
}
