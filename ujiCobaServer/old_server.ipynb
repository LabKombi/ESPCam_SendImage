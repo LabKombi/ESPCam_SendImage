{
 "cells": [
  {
   "cell_type": "code",
   "execution_count": null,
   "id": "e79fde42-1f98-4f4a-90d7-d1d1727f8878",
   "metadata": {},
   "outputs": [],
   "source": [
    "import firebase_admin\n",
    "from firebase_admin import credentials, db\n",
    "from flask import Flask, request, jsonify\n",
    "import os"
   ]
  },
  {
   "cell_type": "code",
   "execution_count": null,
   "id": "3e891daf-3eb9-4152-92f3-00628c6d5c94",
   "metadata": {},
   "outputs": [],
   "source": [
    "# Inisialisasi Firebase\n",
    "cred = credentials.Certificate('config/firebase_sdk_admin_led_switch.json')\n",
    "firebase_admin.initialize_app(cred, {\n",
    "    'databaseURL': 'https://led-switch-6c690-default-rtdb.firebaseio.com'  # Ganti dengan URL Realtime Database Anda\n",
    "})"
   ]
  },
  {
   "cell_type": "code",
   "execution_count": null,
   "id": "5139c098",
   "metadata": {},
   "outputs": [],
   "source": [
    "app = Flask(__name__)\n",
    "\n",
    "# Folder untuk menyimpan foto yang diterima\n",
    "UPLOAD_FOLDER = './uploads'\n",
    "if not os.path.exists(UPLOAD_FOLDER):\n",
    "    os.makedirs(UPLOAD_FOLDER)"
   ]
  },
  {
   "cell_type": "code",
   "execution_count": null,
   "id": "c835c1bb-a54c-4518-8fc4-c444d477c1a2",
   "metadata": {},
   "outputs": [],
   "source": [
    "@app.route('/process_image', methods=['POST'])\n",
    "def process_image():\n",
    "    if 'image' not in request.files:\n",
    "        return jsonify({'error': 'No file part'}), 400\n",
    "    \n",
    "    file = request.files['image']\n",
    "    \n",
    "    # Jika file tidak ada\n",
    "    if file.filename == '':\n",
    "        return jsonify({'error': 'No selected image'}), 400\n",
    "    \n",
    "    # Simpan file dengan nama yang unik\n",
    "    file_path = os.path.join(UPLOAD_FOLDER, 'received_photo.jpg')\n",
    "    file.save(file_path)\n",
    "    \n",
    "    # Proses gambar dan simpan ke Firebase Realtime Database\n",
    "    try:\n",
    "        # Mengubah status relay menjadi \"on\" di Firebase\n",
    "        ref = db.reference('FBStatus')\n",
    "        ref.set('ON')\n",
    "        print(\"Relay status updated to 'on' in Firebase.\")\n",
    "\n",
    "        # Berikan respons sukses\n",
    "        return jsonify({'message': 'Photo received successfully', 'file_path': file_path, 'relay_status': 'ON'}), 200\n",
    "    except Exception as e:\n",
    "        return jsonify({'error': str(e)}), 500\n",
    "\n",
    "@app.route('/')\n",
    "def index():\n",
    "    return \"Server is running and ready to accept images.\"\n",
    "\n",
    "if __name__ == '__main__':\n",
    "    app.run(host='0.0.0.0', port=5000)  # Jalankan server di port 5000\n"
   ]
  }
 ],
 "metadata": {
  "kernelspec": {
   "display_name": "base",
   "language": "python",
   "name": "python3"
  },
  "language_info": {
   "codemirror_mode": {
    "name": "ipython",
    "version": 3
   },
   "file_extension": ".py",
   "mimetype": "text/x-python",
   "name": "python",
   "nbconvert_exporter": "python",
   "pygments_lexer": "ipython3",
   "version": "3.12.3"
  }
 },
 "nbformat": 4,
 "nbformat_minor": 5
}
