{
 "cells": [
  {
   "cell_type": "code",
   "execution_count": null,
   "metadata": {},
   "outputs": [],
   "source": [
    "import requests\n",
    "import time\n",
    "\n",
    "# URL gambar yang terus berubah setiap 3 detik\n",
    "image_url = 'http://192.168.179.164/photo.jpg'\n",
    "\n",
    "# URL server Flask untuk menerima gambar\n",
    "server_url = 'http://192.168.179.197:5000/process_image'\n"
   ]
  },
  {
   "cell_type": "code",
   "execution_count": null,
   "metadata": {},
   "outputs": [],
   "source": [
    "while True:\n",
    "    try:\n",
    "        # Mengunduh gambar dari URL\n",
    "        response = requests.get(image_url)\n",
    "        if response.status_code == 200:\n",
    "            # Mengirim gambar ke server\n",
    "            files = {'file': ('photo.jpg', response.content, 'image/jpeg')}\n",
    "            res = requests.post(server_url, files=files)\n",
    "            print(res.json())\n",
    "        else:\n",
    "            print(\"Gagal mengunduh gambar dari URL.\")\n",
    "\n",
    "    except Exception as e:\n",
    "        print(f\"Terjadi kesalahan: {e}\")\n",
    "\n",
    "    # Tunggu 3 detik sebelum mengulangi proses\n",
    "    time.sleep(1)"
   ]
  }
 ],
 "metadata": {
  "kernelspec": {
   "display_name": "base",
   "language": "python",
   "name": "python3"
  },
  "language_info": {
   "codemirror_mode": {
    "name": "ipython",
    "version": 3
   },
   "file_extension": ".py",
   "mimetype": "text/x-python",
   "name": "python",
   "nbconvert_exporter": "python",
   "pygments_lexer": "ipython3",
   "version": "3.12.3"
  }
 },
 "nbformat": 4,
 "nbformat_minor": 2
}
