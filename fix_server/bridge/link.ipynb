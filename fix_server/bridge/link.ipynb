{
 "cells": [
  {
   "cell_type": "code",
   "execution_count": null,
   "metadata": {},
   "outputs": [],
   "source": [
    "import requests\n",
    "import time\n",
    "\n",
    "# URL gambar yang terus berubah setiap 3 detik\n",
    "image_url = 'https://st.depositphotos.com/2309453/2674/i/950/depositphotos_26740233-stock-photo-businessman-with-eyes-closed.jpg'\n",
    "# image_url = 'https://encrypted-tbn0.gstatic.com/images?q=tbn:ANd9GcTT14pgxOEexDB9KZZv1MIcRnxdJcwDSTkKCQ&s'\n",
    "\n",
    "# URL server Flask untuk menerima gambar\n",
    "server_url = 'http://127.0.0.1:5000/predict'\n"
   ]
  },
  {
   "cell_type": "code",
   "execution_count": null,
   "metadata": {},
   "outputs": [],
   "source": [
    "while True:\n",
    "    try:\n",
    "        # Mengunduh gambar dari URL\n",
    "        response = requests.get(image_url)\n",
    "        if response.status_code == 200:\n",
    "            # Mengirim gambar ke server\n",
    "            files = {'image': ('photo.jpg', response.content, 'image/jpeg')}\n",
    "            res = requests.post(server_url, files=files)\n",
    "            print(res.json())\n",
    "        else:\n",
    "            print(\"Gagal mengunduh gambar dari URL.\")\n",
    "\n",
    "    except Exception as e:\n",
    "        print(f\"Terjadi kesalahan: {e}\")\n",
    "\n",
    "    # Tunggu 1 detik sebelum mengulangi proses\n",
    "    time.sleep(0.5)"
   ]
  }
 ],
 "metadata": {
  "kernelspec": {
   "display_name": "base",
   "language": "python",
   "name": "python3"
  },
  "language_info": {
   "codemirror_mode": {
    "name": "ipython",
    "version": 3
   },
   "file_extension": ".py",
   "mimetype": "text/x-python",
   "name": "python",
   "nbconvert_exporter": "python",
   "pygments_lexer": "ipython3",
   "version": "3.12.3"
  }
 },
 "nbformat": 4,
 "nbformat_minor": 2
}
